{
 "cells": [
  {
   "cell_type": "code",
   "execution_count": 15,
   "id": "ef42f0f5",
   "metadata": {},
   "outputs": [],
   "source": [
    "import nltk \n",
    "from pathlib import Path"
   ]
  },
  {
   "cell_type": "code",
   "execution_count": 16,
   "id": "af45ed28",
   "metadata": {},
   "outputs": [],
   "source": [
    "data_path = Path().cwd().joinpath('ln.txt')"
   ]
  },
  {
   "cell_type": "code",
   "execution_count": 17,
   "id": "aefe8d8d",
   "metadata": {},
   "outputs": [],
   "source": [
    "import re"
   ]
  },
  {
   "cell_type": "code",
   "execution_count": 27,
   "id": "2f5420fc",
   "metadata": {},
   "outputs": [],
   "source": [
    "all_sentences = list()\n",
    "with open(data_path, 'r') as file:\n",
    "    content = file.read()\n",
    "    content = re.sub(r\"M.\\n(\\w+)\", r\"Mr \\1\", content) # split most of the place where we were writting M.Name by Mr Name\n",
    "    content = re.sub('\\n', ' ', content)\n",
    "    sentences = content.split('.')"
   ]
  },
  {
   "cell_type": "code",
   "execution_count": 28,
   "id": "7323686b",
   "metadata": {},
   "outputs": [
    {
     "data": {
      "text/plain": [
       "12176"
      ]
     },
     "execution_count": 28,
     "metadata": {},
     "output_type": "execute_result"
    }
   ],
   "source": [
    "len(sentences)"
   ]
  },
  {
   "cell_type": "code",
   "execution_count": 31,
   "id": "f74430bd",
   "metadata": {},
   "outputs": [
    {
     "data": {
      "text/plain": [
       "['Conseil d’Etat etelemisi bolongolami ya Kabund na linaka ya maponami ya 1er vp ya Ass',\n",
       " ' Conseil d’Etat etelemisi mokano ya kolongola Jean-Marc Kabund, président intérimaire ya UDPS, na ebonda ya 1er vice-président ya Assemblée nationale mpe linaka lya kotia moto mosusu na esika yango  Bazuzi bapesi ekateli na bango nsima na kinzonzi bakotaki na kolanda bosambisami kati na Mr Kabund na Jeanine Mabunda, Mokambi mwa Assemblée nationale',\n",
       " 'Bazuzi bandimi ete bosenga ya basambeli ya Mme Mabunda kasi elobi ezali na loboko te',\n",
       " 'Conseil d’Etat elobi ete makambo manso mateli mpo na kozela mokano mokowuta ya bosambisami ya Cour Consitutionnelle epayi wapi Mr Kabund amemami bokweyisami na ye o’mokolo mwa le 25 mai',\n",
       " \"Conseil d'Etat esengi kozela ekateli ya Cour ya cassation na bosambisami bwa Jean-Jacques Mamba, mabandisi ya pétition ekweyisaki Mr Kabund\"]"
      ]
     },
     "execution_count": 31,
     "metadata": {},
     "output_type": "execute_result"
    }
   ],
   "source": [
    "sentences[:5]"
   ]
  },
  {
   "cell_type": "code",
   "execution_count": 12,
   "id": "6460d570",
   "metadata": {},
   "outputs": [],
   "source": [
    "# write back the data to the file to see what we will get "
   ]
  },
  {
   "cell_type": "code",
   "execution_count": 33,
   "id": "5537d46b",
   "metadata": {},
   "outputs": [],
   "source": [
    "with open(data_path, 'w+') as output_file:\n",
    "    print('\\n'.join(sentences), file=output_file)"
   ]
  },
  {
   "cell_type": "code",
   "execution_count": null,
   "id": "12cba6ef",
   "metadata": {},
   "outputs": [],
   "source": []
  }
 ],
 "metadata": {
  "kernelspec": {
   "display_name": "nlp-course-venv-v2",
   "language": "python",
   "name": "nlp-course-venv-v2"
  },
  "language_info": {
   "codemirror_mode": {
    "name": "ipython",
    "version": 3
   },
   "file_extension": ".py",
   "mimetype": "text/x-python",
   "name": "python",
   "nbconvert_exporter": "python",
   "pygments_lexer": "ipython3",
   "version": "3.6.5"
  }
 },
 "nbformat": 4,
 "nbformat_minor": 5
}
